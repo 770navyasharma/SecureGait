{
 "cells": [
  {
   "cell_type": "code",
   "execution_count": 4,
   "metadata": {},
   "outputs": [
    {
     "name": "stdout",
     "output_type": "stream",
     "text": [
      "Loaded 1117083 images from CASIA-B dataset.\n"
     ]
    }
   ],
   "source": [
    "import os\n",
    "import cv2\n",
    "import numpy as np\n",
    "\n",
    "def load_casia_b_data(dataset_path):\n",
    "    \"\"\"\n",
    "    Loads CASIA-B dataset, organizing images by subject, condition, and view.\n",
    "    Args:\n",
    "        dataset_path: Path to the root of the CASIA-B dataset.\n",
    "    Returns:\n",
    "        X: List of images (as numpy arrays).\n",
    "        y: Corresponding labels (subject ID, condition, view).\n",
    "    \"\"\"\n",
    "    X = []\n",
    "    y = []\n",
    "    \n",
    "    # Iterate through each subject directory (e.g., \"001\", \"002\", etc.)\n",
    "    for subject_dir in sorted(os.listdir(dataset_path)):\n",
    "        subject_path = os.path.join(dataset_path, subject_dir)\n",
    "        \n",
    "        if os.path.isdir(subject_path):\n",
    "            # Iterate through condition directories (e.g., \"bg-01\", \"cl-01\", \"nm-01\", etc.)\n",
    "            for condition_dir in sorted(os.listdir(subject_path)):\n",
    "                condition_path = os.path.join(subject_path, condition_dir)\n",
    "                \n",
    "                if os.path.isdir(condition_path):\n",
    "                    # Iterate through view directories (e.g., \"000\", \"018\", \"036\", etc.)\n",
    "                    for view_dir in sorted(os.listdir(condition_path)):\n",
    "                        view_path = os.path.join(condition_path, view_dir)\n",
    "                        \n",
    "                        if os.path.isdir(view_path):\n",
    "                            # Iterate through images in the view directory\n",
    "                            for img_name in sorted(os.listdir(view_path)):\n",
    "                                img_path = os.path.join(view_path, img_name)\n",
    "                                \n",
    "                                # Load the image as grayscale\n",
    "                                img = cv2.imread(img_path, cv2.IMREAD_GRAYSCALE)\n",
    "                                if img is not None:\n",
    "                                    X.append(img)\n",
    "                                    \n",
    "                                    # Label as a tuple (subject, condition, view)\n",
    "                                    label = (int(subject_dir), condition_dir, int(view_dir))\n",
    "                                    y.append(label)\n",
    "    \n",
    "    return np.array(X), np.array(y)\n",
    "\n",
    "# Path to CASIA-B dataset\n",
    "dataset_path = \"output\"\n",
    "\n",
    "# Load the data\n",
    "X, y = load_casia_b_data(dataset_path)\n",
    "\n",
    "print(f\"Loaded {len(X)} images from CASIA-B dataset.\")\n"
   ]
  },
  {
   "cell_type": "code",
   "execution_count": null,
   "metadata": {},
   "outputs": [],
   "source": []
  },
  {
   "cell_type": "code",
   "execution_count": null,
   "metadata": {},
   "outputs": [],
   "source": []
  },
  {
   "cell_type": "code",
   "execution_count": null,
   "metadata": {},
   "outputs": [],
   "source": []
  }
 ],
 "metadata": {
  "kernelspec": {
   "display_name": "Python 3",
   "language": "python",
   "name": "python3"
  },
  "language_info": {
   "codemirror_mode": {
    "name": "ipython",
    "version": 3
   },
   "file_extension": ".py",
   "mimetype": "text/x-python",
   "name": "python",
   "nbconvert_exporter": "python",
   "pygments_lexer": "ipython3",
   "version": "3.12.6"
  }
 },
 "nbformat": 4,
 "nbformat_minor": 2
}
